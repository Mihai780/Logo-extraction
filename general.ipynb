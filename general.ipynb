{
 "cells": [
  {
   "cell_type": "code",
   "execution_count": null,
   "metadata": {},
   "outputs": [],
   "source": [
    "import pandas as pd\n",
    "import requests\n",
    "import hashlib"
   ]
  },
  {
   "cell_type": "code",
   "execution_count": 3,
   "metadata": {},
   "outputs": [],
   "source": [
    "df = pd.read_parquet(\"logos.snappy.parquet\")"
   ]
  },
  {
   "cell_type": "code",
   "execution_count": null,
   "metadata": {},
   "outputs": [
    {
     "name": "stdout",
     "output_type": "stream",
     "text": [
      "Percentage of websites with logo: 97.65%\n",
      "Success: Logos extracted for more than 97% of websites.\n"
     ]
    }
   ],
   "source": [
    "def fetch_logo(domain, timeout=5):\n",
    "    url_clearbit = f\"https://logo.clearbit.com/{domain}\"\n",
    "    try:\n",
    "        response = requests.get(url_clearbit, timeout=timeout)\n",
    "        if response.status_code == 200 and response.content:\n",
    "            return response.content\n",
    "    except Exception as e:\n",
    "        pass\n",
    "    \n",
    "    \"Foloseste API-ul Google Favicons\"\n",
    "    url_google = f\"https://www.google.com/s2/favicons?sz=64&domain_url={domain}\"\n",
    "    try:\n",
    "        response = requests.get(url_google, timeout=timeout)\n",
    "        if response.status_code == 200 and response.content:\n",
    "            return response.content\n",
    "    except Exception as e:\n",
    "        pass\n",
    "    \n",
    "    return None\n",
    "\n",
    "def get_logo_hash(logo_bytes):\n",
    "    if logo_bytes:\n",
    "        return hashlib.md5(logo_bytes).hexdigest()\n",
    "    return None\n",
    "\n",
    "df['logo_bytes'] = df['domain'].apply(fetch_logo)\n",
    "df['logo_hash'] = df['logo_bytes'].apply(get_logo_hash)\n",
    "total = len(df)\n",
    "valid_logos = df['logo_hash'].notna().sum()\n",
    "percent_with_logo = valid_logos / total * 100\n",
    "print(f\"Percentage of websites with logo: {percent_with_logo:.2f}%\")\n",
    "if percent_with_logo < 97:\n",
    "    print(\"Warning: Logos extracted for less than 97% of websites.\")\n",
    "else:\n",
    "    print(\"Success: Logos extracted for more than 97% of websites.\")\n",
    "\n",
    "groups = df[df['logo_hash'].notna()].groupby('logo_hash')['domain'].apply(list).reset_index()\n",
    "groups.to_csv(\"grouped_logos.csv\", index=False)\n",
    "groups.to_parquet(\"grouped_logos.snappy.parquet\", compression=\"snappy\")"
   ]
  },
  {
   "cell_type": "code",
   "execution_count": 25,
   "metadata": {},
   "outputs": [
    {
     "name": "stdout",
     "output_type": "stream",
     "text": [
      "Percentage of websites with logo: 92.34%\n",
      "Warning: Logos extracted for less than 97% of websites.\n"
     ]
    }
   ],
   "source": [
    "def fetch_logo(domain, timeout=5):\n",
    "    \"Foloseste API-ul Google Favicons\"\n",
    "    url_google = f\"https://www.google.com/s2/favicons?sz=64&domain_url={domain}\"\n",
    "    try:\n",
    "        response = requests.get(url_google, timeout=timeout)\n",
    "        if response.status_code == 200 and response.content:\n",
    "            return response.content\n",
    "    except Exception as e:\n",
    "        pass\n",
    "    \n",
    "    return None\n",
    "\n",
    "def get_logo_hash(logo_bytes):\n",
    "    if logo_bytes:\n",
    "        return hashlib.md5(logo_bytes).hexdigest()\n",
    "    return None\n",
    "\n",
    "df['logo_bytes'] = df['domain'].apply(fetch_logo)\n",
    "df['logo_hash'] = df['logo_bytes'].apply(get_logo_hash)\n",
    "total = len(df)\n",
    "valid_logos = df['logo_hash'].notna().sum()\n",
    "percent_with_logo = valid_logos / total * 100\n",
    "print(f\"Percentage of websites with logo: {percent_with_logo:.2f}%\")\n",
    "if percent_with_logo < 97:\n",
    "    print(\"Warning: Logos extracted for less than 97% of websites.\")\n",
    "else:\n",
    "    print(\"Success: Logos extracted for more than 97% of websites.\")\n",
    "\n",
    "groups = df[df['logo_hash'].notna()].groupby('logo_hash')['domain'].apply(list).reset_index()\n",
    "groups.to_csv(\"grouped_logos.csv\", index=False)\n",
    "groups.to_parquet(\"grouped_logos.snappy.parquet\", compression=\"snappy\")"
   ]
  }
 ],
 "metadata": {
  "kernelspec": {
   "display_name": "base",
   "language": "python",
   "name": "python3"
  },
  "language_info": {
   "codemirror_mode": {
    "name": "ipython",
    "version": 3
   },
   "file_extension": ".py",
   "mimetype": "text/x-python",
   "name": "python",
   "nbconvert_exporter": "python",
   "pygments_lexer": "ipython3",
   "version": "3.12.7"
  }
 },
 "nbformat": 4,
 "nbformat_minor": 2
}
